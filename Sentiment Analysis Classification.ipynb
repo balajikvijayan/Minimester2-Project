{
 "cells": [
  {
   "cell_type": "code",
   "execution_count": 4,
   "metadata": {
    "collapsed": false
   },
   "outputs": [],
   "source": [
    "import pandas as pd\n",
    "import numpy as np\n",
    "import os\n",
    "import nltk\n",
    "from collections import Counter\n",
    "from nltk.tokenize import wordpunct_tokenize\n",
    "from nltk import bigrams\n",
    "from nltk import trigrams\n",
    "from sklearn.feature_extraction.text import TfidfVectorizer\n",
    "from sklearn.decomposition import NMF\n",
    "from sklearn.cross_validation import KFold, train_test_split\n",
    "from sklearn.naive_bayes import BernoulliNB\n",
    "from sklearn.linear_model import LogisticRegression\n",
    "from sklearn.svm import SVC\n",
    "from sklearn.metrics import accuracy_score\n",
    "from sklearn.ensemble import BaggingClassifier, AdaBoostClassifier\n",
    "from pymongo import MongoClient\n",
    "from code.util import Util"
   ]
  },
  {
   "cell_type": "code",
   "execution_count": 15,
   "metadata": {
    "collapsed": false
   },
   "outputs": [
    {
     "name": "stdout",
     "output_type": "stream",
     "text": [
      "Bagging (Trees)\n",
      "Train Accuracy : 0.626666666667\n",
      "Test Accuracy : 0.6124\n",
      "Bagging (Logit)\n",
      "Train Accuracy : 0.709333333333\n",
      "Test Accuracy : 0.6944\n",
      "Bagging (SVC)\n",
      "Train Accuracy : 0.51\n",
      "Test Accuracy : 0.47\n",
      "Bagging (NB)\n",
      "Train Accuracy : 0.667333333333\n",
      "Test Accuracy : 0.6444\n"
     ]
    }
   ],
   "source": [
    "n_features = 100\n",
    "\n",
    "#Lists for X and y\n",
    "review_list = []\n",
    "opinion_list = []\n",
    "word_list = []\n",
    "word_list1 = []\n",
    "\n",
    "#PyMongo variables\n",
    "client = MongoClient()\n",
    "db = client['reviews']\n",
    "collection = db['movies']\n",
    "reviews = collection.find()\n",
    "\n",
    "for review in reviews:\n",
    "    opinion_list.append(review['Opinion'])\n",
    "    review_list.append(review['Review'])\n",
    "\n",
    "vectorizer = TfidfVectorizer(max_features=n_features, stop_words='english'\\\n",
    "                , ngram_range=(1,3), sublinear_tf=True, norm='l2')\n",
    "review_tfidf = vectorizer.fit_transform(review_list)\n",
    "opinion_array = np.array(opinion_list)\n",
    "\n",
    "feats_train, feats_test, opinions_train, opinions_test = train_test_split(\\\n",
    "                    review_tfidf, opinion_array)\n",
    "kf = KFold(feats_train.shape[0], n_folds=5)\n",
    "\n",
    "utility = Util()\n",
    "train_accuracy, test_accuracy = utility.CalculateAccuracy(BaggingClassifier(),\\\n",
    "            5, feats_train, opinions_train, feats_test, opinions_test)\n",
    "print 'Bagging (Trees)'\n",
    "print 'Train Accuracy : {}'.format(train_accuracy)\n",
    "print 'Test Accuracy : {}'.format(test_accuracy)\n",
    "\n",
    "train_accuracy, test_accuracy = utility.CalculateAccuracy(BaggingClassifier(base_estimator=LogisticRegression()),\\\n",
    "            5, feats_train, opinions_train, feats_test, opinions_test)\n",
    "print 'Bagging (Logit)'\n",
    "print 'Train Accuracy : {}'.format(train_accuracy)\n",
    "print 'Test Accuracy : {}'.format(test_accuracy)\n",
    "\n",
    "train_accuracy, test_accuracy = utility.CalculateAccuracy(BaggingClassifier(base_estimator=SVC()),\\\n",
    "            5, feats_train, opinions_train, feats_test, opinions_test)\n",
    "print 'Bagging (SVC)'\n",
    "print 'Train Accuracy : {}'.format(train_accuracy)\n",
    "print 'Test Accuracy : {}'.format(test_accuracy)\n",
    "\n",
    "train_accuracy, test_accuracy = utility.CalculateAccuracy(BaggingClassifier(base_estimator=BernoulliNB()),\\\n",
    "            5, feats_train, opinions_train, feats_test, opinions_test)\n",
    "print 'Bagging (NB)'\n",
    "print 'Train Accuracy : {}'.format(train_accuracy)\n",
    "print 'Test Accuracy : {}'.format(test_accuracy)"
   ]
  },
  {
   "cell_type": "code",
   "execution_count": 13,
   "metadata": {
    "collapsed": false
   },
   "outputs": [
    {
     "name": "stdout",
     "output_type": "stream",
     "text": [
      "AdaBoost (Trees)\n",
      "Train Accuracy : 0.66\n",
      "Test Accuracy : 0.6692\n",
      "AdaBoost (SVC)\n",
      "Train Accuracy : 0.458666666667\n",
      "Test Accuracy : 0.5008\n",
      "AdaBoost (NB)\n",
      "Train Accuracy : 0.533333333333\n",
      "Test Accuracy : 0.5084\n"
     ]
    }
   ],
   "source": [
    "train_accuracy, test_accuracy = utility.CalculateAccuracy(AdaBoostClassifier(),\\\n",
    "            5, feats_train, opinions_train, feats_test, opinions_test)\n",
    "print 'AdaBoost (Trees)'\n",
    "print 'Train Accuracy : {}'.format(train_accuracy)\n",
    "print 'Test Accuracy : {}'.format(test_accuracy)\n",
    "\n",
    "train_accuracy, test_accuracy = utility.CalculateAccuracy(AdaBoostClassifier(base_estimator=SVC(),algorithm='SAMME'),\\\n",
    "            5, feats_train, opinions_train, feats_test, opinions_test)\n",
    "print 'AdaBoost (SVC)'\n",
    "print 'Train Accuracy : {}'.format(train_accuracy)\n",
    "print 'Test Accuracy : {}'.format(test_accuracy)\n",
    "\n",
    "train_accuracy, test_accuracy = utility.CalculateAccuracy(AdaBoostClassifier(base_estimator=BernoulliNB()),\\\n",
    "            5, feats_train, opinions_train, feats_test, opinions_test)\n",
    "print 'AdaBoost (NB)'\n",
    "print 'Train Accuracy : {}'.format(train_accuracy)\n",
    "print 'Test Accuracy : {}'.format(test_accuracy)"
   ]
  },
  {
   "cell_type": "code",
   "execution_count": 7,
   "metadata": {
    "collapsed": false
   },
   "outputs": [
    {
     "name": "stdout",
     "output_type": "stream",
     "text": [
      "Bernoulli NB\n",
      "Train Accuracy : 0.663333333333\n",
      "Test Accuracy : 0.6544\n",
      "Logistic Regression\n",
      "Train Accuracy : 0.699333333333\n",
      "Test Accuracy : 0.6976\n",
      "SVC\n",
      "Train Accuracy : 0.466\n",
      "Test Accuracy : 0.4988\n"
     ]
    }
   ],
   "source": [
    "utility = Util()\n",
    "train_accuracy, test_accuracy = utility.CalculateAccuracy(BernoulliNB(),\\\n",
    "            5, feats_train, opinions_train, feats_test, opinions_test)\n",
    "print 'Bernoulli NB'\n",
    "print 'Train Accuracy : {}'.format(train_accuracy)\n",
    "print 'Test Accuracy : {}'.format(test_accuracy)\n",
    "\n",
    "train_accuracy, test_accuracy = utility.CalculateAccuracy(\\\n",
    "    LogisticRegression(),5, feats_train, opinions_train,\\\n",
    "    feats_test, opinions_test)\n",
    "print 'Logistic Regression'\n",
    "print 'Train Accuracy : {}'.format(train_accuracy)\n",
    "print 'Test Accuracy : {}'.format(test_accuracy)\n",
    "\n",
    "train_accuracy, test_accuracy = utility.CalculateAccuracy(\\\n",
    "    SVC(),5, feats_train, opinions_train, feats_test,\\\n",
    "    opinions_test)\n",
    "print 'SVC'\n",
    "print 'Train Accuracy : {}'.format(train_accuracy)\n",
    "print 'Test Accuracy : {}'.format(test_accuracy)"
   ]
  },
  {
   "cell_type": "code",
   "execution_count": null,
   "metadata": {
    "collapsed": true
   },
   "outputs": [],
   "source": [
    "feats_train, feats_test, opinions_train, opinions_test = train_test_split(\\\n",
    "                    review_list, opinion_array)\n",
    "\n",
    "for i,review in enumerate(feats_train):\n",
    "    review_words = wordpunct_tokenize(review)\n",
    "    word_list.append((Counter(review_words),opinions_train[i]))\n",
    "\n",
    "classifier = nltk.NaiveBayesClassifier.train(word_list)\n",
    "\n",
    "for j,review in enumerate(feats_test):\n",
    "    review_words1 = wordpunct_tokenize(review)\n",
    "    word_list1.append((Counter(review_words1),opinions_test[j]))\n",
    "\n",
    "print nltk.classify.accuracy(classifier, word_list1)"
   ]
  }
 ],
 "metadata": {
  "kernelspec": {
   "display_name": "Python 2",
   "language": "python",
   "name": "python2"
  },
  "language_info": {
   "codemirror_mode": {
    "name": "ipython",
    "version": 2
   },
   "file_extension": ".py",
   "mimetype": "text/x-python",
   "name": "python",
   "nbconvert_exporter": "python",
   "pygments_lexer": "ipython2",
   "version": "2.7.9"
  }
 },
 "nbformat": 4,
 "nbformat_minor": 0
}
