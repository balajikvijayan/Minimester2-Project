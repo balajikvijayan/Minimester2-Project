{
 "cells": [
  {
   "cell_type": "code",
   "execution_count": 13,
   "metadata": {
    "collapsed": false
   },
   "outputs": [
    {
     "name": "stdout",
     "output_type": "stream",
     "text": [
      "tests pass :)\n"
     ]
    }
   ],
   "source": [
    "import numpy as np\n",
    "from scipy.spatial.distance import cosine\n",
    "from numpy.linalg import norm\n",
    "\n",
    "# TODO: Finish function to make tests pass\n",
    "def cos_sim(v1, v2):\n",
    "    v1 = np.array(v1)\n",
    "    v2 = np.array(v2)\n",
    "    return v1.T.dot(v2)/(norm(v1)*norm(v2))\n",
    "#     return cosine(v1,v2)\n",
    "\n",
    "def test_cos_sim():\n",
    "    v1 = np.array([1, 2, 3])\n",
    "    v2 = np.array([-1, -2, -3])\n",
    "    v3 = np.array([0, 3])\n",
    "    v4 = np.array([4, 0])\n",
    "    v5 = [3, 45, 7, 2]\n",
    "    v6 = [2, 54, 13, 15]\n",
    "    assert cos_sim(v1, v1) == 1.0\n",
    "    assert cos_sim(v1, v2) == -1.0\n",
    "    assert cos_sim(v3, v4) == 0.0\n",
    "    assert round(cos_sim(v5, v6), 4) == round(0.97228425171235, 4)\n",
    "    return \"tests pass :)\"\n",
    "    \n",
    "print(test_cos_sim())"
   ]
  },
  {
   "cell_type": "code",
   "execution_count": null,
   "metadata": {
    "collapsed": true
   },
   "outputs": [],
   "source": []
  }
 ],
 "metadata": {
  "kernelspec": {
   "display_name": "Python 2",
   "language": "python",
   "name": "python2"
  },
  "language_info": {
   "codemirror_mode": {
    "name": "ipython",
    "version": 2
   },
   "file_extension": ".py",
   "mimetype": "text/x-python",
   "name": "python",
   "nbconvert_exporter": "python",
   "pygments_lexer": "ipython2",
   "version": "2.7.9"
  }
 },
 "nbformat": 4,
 "nbformat_minor": 0
}
