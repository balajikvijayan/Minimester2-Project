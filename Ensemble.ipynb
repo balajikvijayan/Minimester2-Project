{
 "cells": [
  {
   "cell_type": "code",
   "execution_count": 8,
   "metadata": {
    "collapsed": true
   },
   "outputs": [],
   "source": [
    "import pandas as pd\n",
    "import numpy as np\n",
    "import os\n",
    "import nltk.classify.util\n",
    "from sklearn.linear_model import LogisticRegression\n",
    "from sklearn.feature_extraction.text import TfidfVectorizer\n",
    "from sklearn.decomposition import NMF\n",
    "from sklearn.cross_validation import KFold, train_test_split\n",
    "from BeautifulSoup import BeautifulSoup\n",
    "from pymongo import MongoClient\n",
    "from lxml import etree\n",
    "from nltk.classify import NaiveBayesClassifier\n",
    "from nltk.corpus import movie_reviews"
   ]
  },
  {
   "cell_type": "code",
   "execution_count": 66,
   "metadata": {
    "collapsed": false
   },
   "outputs": [
    {
     "name": "stdout",
     "output_type": "stream",
     "text": [
      "(500L, 2000L)\n",
      "(500L,)\n",
      "0.494\n",
      "[False False False ..., False False False]\n",
      "[False  True  True ..., False False  True]\n"
     ]
    }
   ],
   "source": [
    "def word_feats(text):\n",
    "    words = text.split(' ')\n",
    "    return dict([(word, True) for word in words])\n",
    "\n",
    "#Path of data files\n",
    "pospath = r'C:\\Anaconda\\Galvanize\\Minimester2-Project\\txt_sentoken\\pos'\n",
    "negpath = r'C:\\Anaconda\\Galvanize\\Minimester2-Project\\txt_sentoken\\neg'\n",
    "\n",
    "#Other initializations\n",
    "review = []\n",
    "opinion = []\n",
    "n_features = 2000\n",
    "n_topics = 2\n",
    "n_top_words = 20\n",
    "pos_words = []\n",
    "neg_words = []\n",
    "\n",
    "#loop through neg files\n",
    "for name in os.listdir(negpath):\n",
    "    #context manager\n",
    "    with open(negpath+'\\\\'+name, 'r') as fo:\n",
    "        #read in the data\n",
    "        data = fo.read()\n",
    "        review.append(data.replace(\"'\",\"\"))\n",
    "        opinion.append(False)\n",
    "\n",
    "#loop through pos files\n",
    "for name in os.listdir(pospath):\n",
    "    #context manager\n",
    "    with open(pospath+'\\\\'+name, 'r') as fo:\n",
    "        #read in the data\n",
    "        data = fo.read()\n",
    "        review.append(data.replace(\"'\",\"\"))\n",
    "        opinion.append(True)\n",
    "\n",
    "negfeats = [(word_feats(review[f]), 'neg') for f in xrange(0,1000)]\n",
    "posfeats = [(word_feats(review[f]), 'pos') for f in xrange(1000,2000)]\n",
    "\n",
    "feats = np.vstack((np.array(negfeats),np.array(posfeats)))\n",
    "reviews = np.array(review)\n",
    "opinions = np.array(opinion)\n",
    "\n",
    "feats_train, feats_test, reviews_train, reviews_test, opinions_train, opinions_test\\\n",
    "            = train_test_split(feats, reviews, opinions)\n",
    "\n",
    "vectorizer = TfidfVectorizer(max_features=n_features, stop_words='english')\n",
    "\n",
    "    \n",
    "train_tfidf = vectorizer.fit_transform(list(reviews_train))\n",
    "feature_names = vectorizer.get_feature_names()\n",
    "test_tfidf = vectorizer.fit_transform(list(reviews_test))\n",
    "\n",
    "nmf = NMF(n_components=n_topics,init='nndsvd').fit(train_tfidf)\n",
    "z = nmf.transform(test_tfidf).dot(nmf.components_)\n",
    "\n",
    "# for idx, Doc in enumerate(z):\n",
    "#     if opinions_test[idx] == True:\n",
    "#         pos_words.extend([feature_names[i] for i in Doc.argsort()[:-n_top_words - 1:-1]])\n",
    "#     elif opinions_test[idx] == False:\n",
    "#         neg_words.extend([feature_names[i] for i in Doc.argsort()[:-n_top_words - 1:-1]])\n",
    "# #     break\n",
    "\n",
    "# vectorizer2 = TfidfVectorizer(max_features=n_features, stop_words='english')\n",
    "\n",
    "# pos_tfidf = vectorizer2.fit_transform(pos_words)\n",
    "# neg_tfidf = vectorizer2.fit_transform(neg_words)\n",
    "# logit_tfidf = np.vstack((pos_tfidf.todense(),neg_tfidf.todense()))\n",
    "\n",
    "# pos = np.ones(pos_tfidf.shape[0])\n",
    "# neg = np.zeros(neg_tfidf.shape[0])\n",
    "# y = np.vstack((pos.reshape(-1,1),neg.reshape(-1,1)))\n",
    "\n",
    "print z.shape\n",
    "print opinions_test.shape\n",
    "\n",
    "logit = LogisticRegression()\n",
    "logit.fit_transform(z,opinions_test)\n",
    "print logit.score(nmf.transform(train_tfidf).dot(nmf.components_),opinions_train)\n",
    "yhat = logit.predict(nmf.transform(train_tfidf).dot(nmf.components_))\n",
    "print yhat\n",
    "print opinions_train"
   ]
  },
  {
   "cell_type": "code",
   "execution_count": null,
   "metadata": {
    "collapsed": true
   },
   "outputs": [],
   "source": []
  }
 ],
 "metadata": {
  "kernelspec": {
   "display_name": "Python 2",
   "language": "python",
   "name": "python2"
  },
  "language_info": {
   "codemirror_mode": {
    "name": "ipython",
    "version": 2
   },
   "file_extension": ".py",
   "mimetype": "text/x-python",
   "name": "python",
   "nbconvert_exporter": "python",
   "pygments_lexer": "ipython2",
   "version": "2.7.9"
  }
 },
 "nbformat": 4,
 "nbformat_minor": 0
}
