{
 "cells": [
  {
   "cell_type": "code",
   "execution_count": 12,
   "metadata": {
    "collapsed": true
   },
   "outputs": [],
   "source": [
    "import pandas as pd\n",
    "import numpy as np\n",
    "import os\n",
    "import nltk.classify.util\n",
    "from sklearn.linear_model import LogisticRegression\n",
    "from sklearn.naive_bayes import BernoulliNB\n",
    "from sklearn.svm import SVC\n",
    "from sklearn.ensemble import BaggingClassifier, AdaBoostClassifier\n",
    "from sklearn.feature_extraction.text import TfidfVectorizer\n",
    "from sklearn.decomposition import NMF\n",
    "from sklearn.cross_validation import KFold, train_test_split\n",
    "from BeautifulSoup import BeautifulSoup\n",
    "from pymongo import MongoClient\n"
   ]
  },
  {
   "cell_type": "code",
   "execution_count": 18,
   "metadata": {
    "collapsed": false
   },
   "outputs": [
    {
     "name": "stdout",
     "output_type": "stream",
     "text": [
      "0.425\n",
      "0.505\n"
     ]
    }
   ],
   "source": [
    "#PyMongo variables\n",
    "client = MongoClient()\n",
    "db = client['reviews']\n",
    "collection = db['movies']\n",
    "reviews = collection.find()\n",
    "\n",
    "#Lists for X and y\n",
    "review_list = []\n",
    "opinion_list = []\n",
    "word_list = []\n",
    "\n",
    "n_features = 2000\n",
    "n_topics = 2\n",
    "n_top_words = 20\n",
    "pos_words = []\n",
    "neg_words = []\n",
    "\n",
    "for review in reviews:\n",
    "    opinion_list.append(review['Opinion'])\n",
    "    review_list.append(review['Review'])\n",
    "\n",
    "vectorizer = TfidfVectorizer(max_features=n_features, stop_words='english'\\\n",
    "                , ngram_range=(1,3), sublinear_tf=True, norm='l2')\n",
    "review_tfidf = vectorizer.fit_transform(review_list)\n",
    "opinion_array = np.array(opinion_list)\n",
    "feature_names = vectorizer.get_feature_names()\n",
    "\n",
    "feats_train, feats_test, opinions_train, opinions_test = train_test_split(\\\n",
    "                    review_tfidf, opinion_array, test_size=.2)\n",
    "\n",
    "nmf = NMF(n_components=n_topics,init='nndsvd')\n",
    "\n",
    "X = []\n",
    "kf = KFold(review_tfidf.shape[0], n_folds=5)\n",
    "\n",
    "for small_index, large_index in kf:\n",
    "    training_features = review_tfidf[large_index]\n",
    "    test_features = review_tfidf[small_index]\n",
    "    nmf.fit(training_features)\n",
    "    X.append(nmf.transform(test_features).dot(nmf.components_))\n",
    "\n",
    "train_X = np.mean(np.array(X),0)\n",
    "\n",
    "logit = LogisticRegression()\n",
    "nb = BernoulliNB()\n",
    "\n",
    "logit.fit(train_X,opinions_train)\n",
    "nb.fit(train_X,opinions_train)\n",
    "\n",
    "print logit.score(feats_test,opinions_test)\n",
    "print nb.score(feats_test,opinions_test)"
   ]
  },
  {
   "cell_type": "code",
   "execution_count": null,
   "metadata": {
    "collapsed": true
   },
   "outputs": [],
   "source": []
  }
 ],
 "metadata": {
  "kernelspec": {
   "display_name": "Python 2",
   "language": "python",
   "name": "python2"
  },
  "language_info": {
   "codemirror_mode": {
    "name": "ipython",
    "version": 2
   },
   "file_extension": ".py",
   "mimetype": "text/x-python",
   "name": "python",
   "nbconvert_exporter": "python",
   "pygments_lexer": "ipython2",
   "version": "2.7.9"
  }
 },
 "nbformat": 4,
 "nbformat_minor": 0
}
