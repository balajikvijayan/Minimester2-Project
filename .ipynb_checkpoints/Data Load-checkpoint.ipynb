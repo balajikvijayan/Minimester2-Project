{
 "cells": [
  {
   "cell_type": "code",
   "execution_count": 1,
   "metadata": {
    "collapsed": true
   },
   "outputs": [],
   "source": [
    "import xml.etree.ElementTree as ET\n",
    "import pandas as pd\n",
    "import os\n",
    "from BeautifulSoup import BeautifulSoup\n",
    "from pymongo import MongoClient\n",
    "from lxml import etree"
   ]
  },
  {
   "cell_type": "code",
   "execution_count": 65,
   "metadata": {
    "collapsed": false
   },
   "outputs": [
    {
     "name": "stdout",
     "output_type": "stream",
     "text": [
      "0\n",
      "date 07/31/2009\n"
     ]
    },
    {
     "ename": "AttributeError",
     "evalue": "'str' object has no attribute 'lowercase'",
     "output_type": "error",
     "traceback": [
      "\u001b[1;31m---------------------------------------------------------------------------\u001b[0m",
      "\u001b[1;31mAttributeError\u001b[0m                            Traceback (most recent call last)",
      "\u001b[1;32m<ipython-input-65-43b9886b958b>\u001b[0m in \u001b[0;36m<module>\u001b[1;34m()\u001b[0m\n\u001b[0;32m     28\u001b[0m             \u001b[1;32mfor\u001b[0m \u001b[0mchild\u001b[0m \u001b[1;32min\u001b[0m \u001b[0mdoc\u001b[0m\u001b[1;33m:\u001b[0m\u001b[1;33m\u001b[0m\u001b[0m\n\u001b[0;32m     29\u001b[0m                 \u001b[1;32mprint\u001b[0m \u001b[0mchild\u001b[0m\u001b[1;33m.\u001b[0m\u001b[0mtag\u001b[0m\u001b[1;33m,\u001b[0m \u001b[0mchild\u001b[0m\u001b[1;33m.\u001b[0m\u001b[0mtext\u001b[0m\u001b[1;33m\u001b[0m\u001b[0m\n\u001b[1;32m---> 30\u001b[1;33m                 \u001b[1;32mif\u001b[0m \u001b[0mchild\u001b[0m\u001b[1;33m.\u001b[0m\u001b[0mtag\u001b[0m\u001b[1;33m.\u001b[0m\u001b[0mlowercase\u001b[0m\u001b[1;33m(\u001b[0m\u001b[1;33m)\u001b[0m \u001b[1;33m==\u001b[0m \u001b[1;34m'DATE'\u001b[0m\u001b[1;33m:\u001b[0m\u001b[1;33m\u001b[0m\u001b[0m\n\u001b[0m\u001b[0;32m     31\u001b[0m                     \u001b[0mdate\u001b[0m\u001b[1;33m.\u001b[0m\u001b[0mappend\u001b[0m\u001b[1;33m(\u001b[0m\u001b[0mchild\u001b[0m\u001b[1;33m.\u001b[0m\u001b[0mtext\u001b[0m\u001b[1;33m)\u001b[0m\u001b[1;33m\u001b[0m\u001b[0m\n\u001b[0;32m     32\u001b[0m                 \u001b[1;32melif\u001b[0m \u001b[0mchild\u001b[0m\u001b[1;33m.\u001b[0m\u001b[0mtag\u001b[0m \u001b[1;33m==\u001b[0m \u001b[1;34m'AUTHOR'\u001b[0m\u001b[1;33m:\u001b[0m\u001b[1;33m\u001b[0m\u001b[0m\n",
      "\u001b[1;31mAttributeError\u001b[0m: 'str' object has no attribute 'lowercase'"
     ]
    }
   ],
   "source": [
    "#Path of data files\n",
    "path = r'C:\\Anaconda\\Galvanize\\Minimester2-Project\\cars\\data\\2007'\n",
    "#Other initializations\n",
    "client = MongoClient()\n",
    "db = client.reviews\n",
    "collection = db.cars\n",
    "\n",
    "#loop through files\n",
    "for i,name in enumerate(os.listdir(path)):\n",
    "    #context manager\n",
    "    with open(path+'\\\\'+name, 'r') as fo:\n",
    "        #read in the data\n",
    "        data = fo.read().splitlines(True)\n",
    "        #construct etree XML friendly strings\n",
    "        newdata = '<DATA>\\n'+''.join(data[1:]).replace('&','and')+'</DATA>'\n",
    "#         print ''.join(data[1:]).replace('&','and')\n",
    "        soup = BeautifulSoup(newdata)\n",
    "#         print str(soup)\n",
    "        root = etree.fromstring(str(soup), \n",
    "                        parser=etree.XMLParser(encoding='cp1252'))\n",
    "\n",
    "        #build lists of data\n",
    "        date, author, text, favorite, = [],[],[],[]\n",
    "        #loop through the tree to capture all data\n",
    "        for j, doc in enumerate(root):\n",
    "            #conditionals to build lists of data\n",
    "#             print j\n",
    "            for child in doc:\n",
    "#                 print child.tag, child.text\n",
    "                if child.tag.lower() == 'date':\n",
    "                    date.append(child.text)\n",
    "                elif child.tag.lower() == 'author':\n",
    "                    author.append(child.text)\n",
    "                elif child.tag.lower() == 'text':\n",
    "                    text.append(child.text)\n",
    "                elif child.tag.lower() == 'favorite':\n",
    "                    favorite.append(child.text)\n",
    "        print len(date),len(author),len(text),len(favorite)\n",
    "        df = pd.DataFrame(zip(date,author,text,favorite))\n",
    "        print df.head()\n",
    "        df.columns = ['Date','Author','Text','Favorite']\n",
    "        df['Vehicle'] = name\n",
    "        #Insert df into MongoDB\n",
    "        result = collection.insert(df.T.to_dict().values())\n",
    "        #Checks that the data load is proceeding\n",
    "        print name\n",
    "        print collection.count()"
   ]
  },
  {
   "cell_type": "code",
   "execution_count": 56,
   "metadata": {
    "collapsed": false
   },
   "outputs": [],
   "source": [
    "collection.drop()"
   ]
  },
  {
   "cell_type": "code",
   "execution_count": null,
   "metadata": {
    "collapsed": true
   },
   "outputs": [],
   "source": []
  }
 ],
 "metadata": {
  "kernelspec": {
   "display_name": "Python 2",
   "language": "python",
   "name": "python2"
  },
  "language_info": {
   "codemirror_mode": {
    "name": "ipython",
    "version": 2
   },
   "file_extension": ".py",
   "mimetype": "text/x-python",
   "name": "python",
   "nbconvert_exporter": "python",
   "pygments_lexer": "ipython2",
   "version": "2.7.9"
  }
 },
 "nbformat": 4,
 "nbformat_minor": 0
}
