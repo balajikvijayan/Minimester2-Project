{
 "cells": [
  {
   "cell_type": "code",
   "execution_count": 40,
   "metadata": {
    "collapsed": false
   },
   "outputs": [],
   "source": [
    "import pandas as pd\n",
    "import numpy as np\n",
    "import os\n",
    "from sklearn.feature_extraction.text import TfidfVectorizer\n",
    "from sklearn.decomposition import NMF\n",
    "from sklearn.cross_validation import KFold, train_test_split\n",
    "from BeautifulSoup import BeautifulSoup\n",
    "from pymongo import MongoClient\n",
    "from lxml import etree"
   ]
  },
  {
   "cell_type": "code",
   "execution_count": 87,
   "metadata": {
    "collapsed": false
   },
   "outputs": [
    {
     "name": "stdout",
     "output_type": "stream",
     "text": [
      "18903\n",
      "Done!\n"
     ]
    }
   ],
   "source": [
    "#Path of data files\n",
    "path = r'C:\\Anaconda\\Galvanize\\Minimester2-Project\\cars\\data\\2007'\n",
    "\n",
    "#Other initializations\n",
    "client = MongoClient()\n",
    "db = client.reviews\n",
    "collection = db.cars\n",
    "#Drop data so duplicates aren't loaded\n",
    "collection.drop()\n",
    "\n",
    "#loop through files\n",
    "for i,name in enumerate(os.listdir(path)):\n",
    "    #break for the folder containing bad data files\n",
    "    if name in ['Bad']:\n",
    "        break\n",
    "    #context manager\n",
    "    with open(path+'\\\\'+name, 'r') as fo:\n",
    "        #read in the data\n",
    "        data = fo.read().splitlines(True)\n",
    "        #construct etree XML friendly strings\n",
    "        newdata = '<DATA>\\n'+''.join(data[1:]).replace('&','and')+'</DATA>'\n",
    "        #BS automatically transforms ampersands and angle brackets\n",
    "        #into their escaped variant\n",
    "        soup = BeautifulSoup(newdata)\n",
    "        root = etree.fromstring(str(soup), \n",
    "                        parser=etree.XMLParser(encoding='cp1252'))\n",
    "\n",
    "        #build lists of data\n",
    "        date, author, text, favorite, = [],[],[],[]\n",
    "        #loop through the tree to capture all data\n",
    "        for j, doc in enumerate(root):\n",
    "            #conditionals to build lists of data\n",
    "#             print j\n",
    "            for child in doc:\n",
    "#                 print child.tag, child.text\n",
    "                if child.tag.lower() == 'date':\n",
    "                    date.append(child.text)\n",
    "                elif child.tag.lower() == 'author':\n",
    "                    author.append(child.text)\n",
    "                elif child.tag.lower() == 'text':\n",
    "                    text.append(child.text)\n",
    "                elif child.tag.lower() == 'favorite':\n",
    "                    favorite.append(child.text)\n",
    "#         print len(date),len(author),len(text),len(favorite)\n",
    "        df = pd.DataFrame(zip(date,author,text,favorite))\n",
    "#         print df.head()\n",
    "        df.columns = ['Date','Author','Text','Favorite']\n",
    "        df['Vehicle'] = name\n",
    "        #Insert df into MongoDB\n",
    "        result = collection.insert(df.T.to_dict().values())\n",
    "        #Checks that the data load is proceeding\n",
    "#         print name\n",
    "#         print collection.count()\n",
    "print collection.count()\n",
    "print 'Done!'"
   ]
  },
  {
   "cell_type": "code",
   "execution_count": 86,
   "metadata": {
    "collapsed": false
   },
   "outputs": [
    {
     "name": "stdout",
     "output_type": "stream",
     "text": [
      "99.4457422045\n",
      "99.4746007562\n",
      "99.4492008649\n",
      "99.4610140615\n",
      "99.440046819\n",
      "Topic #0\n",
      "car bought want cars really recommend sports little buy amazing money lot say handles overall perfect makes driving looking price\n",
      "\n",
      "Topic #1\n",
      "truck trucks ford chevy cab tundra bed toyota power tacoma towing dodge silverado gmc gm trailer tow v8 4wd size\n",
      "\n",
      "Topic #2\n",
      "great looks handles far price drives value handling runs features sound awesome interior job performance acceleration money little design stereo\n",
      "\n",
      "Topic #3\n",
      "love just got new bought absolutely ago way driving fell look kids awesome looks color suv purchased drives blue years\n",
      "\n",
      "Topic #4\n",
      "mpg highway city driving miles getting fuel mph average 30 trip town 20 25 economy 22 hwy averaging 40 26\n",
      "\n",
      "Topic #5\n",
      "drive fun comfortable test fast easy wheel blast snow day quick just work manual lot pleasure looking mazda sporty road\n",
      "\n",
      "Topic #6\n",
      "vehicle suv purchased family size vehicles purchase looking recommend road fuel comfort jeep excellent wife luxury impressed gm outstanding extremely\n",
      "\n",
      "Topic #7\n",
      "bmw lexus performance better luxury mercedes acura audi drove test series 350 sport package tl infiniti class sedan g35 quality\n",
      "\n",
      "Topic #8\n",
      "best owned ve far cars years driven class months past say market vehicles performance year quality suvs weeks previously mercedes\n",
      "\n",
      "Topic #9\n",
      "room seats seat rear comfortable plenty row space easy leg lots cargo driver kids small interior fit storage leather trunk\n",
      "\n",
      "Topic #10\n",
      "gas mileage better gets bad tank bought little expected city far decent engine suv traded hybrid power small low gallon\n",
      "\n",
      "Topic #11\n",
      "miles dealer problems problem 000 tires new replaced time transmission times bought noise engine dealership year warranty light service just\n",
      "\n",
      "Topic #12\n",
      "like feel really suv feels drives don handles looks just big road driving rides doesn look dream thing need small\n",
      "\n",
      "Topic #13\n",
      "honda toyota hyundai price accord civic features drove test 2007 new quality better camry fe nissan santa value cr buy\n",
      "\n",
      "Topic #14\n",
      "good fuel economy handling excellent looking looks pretty performance far overall power fit acceleration nice price finish value lots visibility\n",
      "\n",
      "Topic #15\n",
      "ride smooth quiet interior power engine nice excellent comfortable handling road quality acceleration exterior design transmission sound speed noise powerful\n",
      "\n"
     ]
    }
   ],
   "source": [
    "#Hyperparameters to tune\n",
    "n_samples = 2000\n",
    "n_features = 1000\n",
    "n_topics = 16\n",
    "n_top_words = 20\n",
    "\n",
    "carsdf = pd.DataFrame(list(collection.find()))\n",
    "cars = carsdf.as_matrix()\n",
    "\n",
    "# carfav = np.empty_like(cars[:,2])\n",
    "cartext = np.empty_like(cars[:,3])\n",
    "\n",
    "# for i,item in enumerate(list(cars[:,2])):\n",
    "#     if item is None:\n",
    "#         carfav[i] = ''\n",
    "#     else:\n",
    "#         carfav[i] = item\n",
    "\n",
    "for j,item in enumerate(list(cars[:,3])):\n",
    "    if item is None:\n",
    "        cartext[j] = ''\n",
    "    else:\n",
    "        cartext[j] = item\n",
    "        \n",
    "cartext_train, cartext_test = train_test_split(cartext)\n",
    "kf = KFold(cartext_train.shape[0], n_folds=5)\n",
    "vectorizer = TfidfVectorizer(max_features=n_features, stop_words='english')\n",
    "\n",
    "for train_index, test_index in kf:    \n",
    "    # fav_tfidf = vectorizer.fit_transform(list(carfav))\n",
    "    text_tfidf = vectorizer.fit_transform(list(cartext_train[train_index]))\n",
    "    nmf = NMF(n_components=n_topics).fit(text_tfidf)\n",
    "    print nmf.reconstruction_err_\n",
    "\n",
    "feature_names = vectorizer.get_feature_names()\n",
    "\n",
    "for topic_idx, topic in enumerate(nmf.components_):\n",
    "    print \"Topic #{}\".format(topic_idx)\n",
    "    print(\" \".join([feature_names[i]\n",
    "                    for i in topic.argsort()[:-n_top_words - 1:-1]]))\n",
    "    print"
   ]
  },
  {
   "cell_type": "code",
   "execution_count": null,
   "metadata": {
    "collapsed": true
   },
   "outputs": [],
   "source": []
  }
 ],
 "metadata": {
  "kernelspec": {
   "display_name": "Python 2",
   "language": "python",
   "name": "python2"
  },
  "language_info": {
   "codemirror_mode": {
    "name": "ipython",
    "version": 2
   },
   "file_extension": ".py",
   "mimetype": "text/x-python",
   "name": "python",
   "nbconvert_exporter": "python",
   "pygments_lexer": "ipython2",
   "version": "2.7.9"
  }
 },
 "nbformat": 4,
 "nbformat_minor": 0
}
