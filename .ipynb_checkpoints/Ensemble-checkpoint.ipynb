{
 "cells": [
  {
   "cell_type": "code",
   "execution_count": 20,
   "metadata": {
    "collapsed": true
   },
   "outputs": [],
   "source": [
    "import pandas as pd\n",
    "import numpy as np\n",
    "import os\n",
    "import nltk.classify.util\n",
    "from sklearn.linear_model import LogisticRegression\n",
    "from sklearn.naive_bayes import BernoulliNB\n",
    "from sklearn.svm import SVC\n",
    "from sklearn.ensemble import BaggingClassifier, AdaBoostClassifier\n",
    "from sklearn.feature_extraction.text import TfidfVectorizer\n",
    "from sklearn.decomposition import NMF\n",
    "from sklearn.cross_validation import KFold, train_test_split\n",
    "from BeautifulSoup import BeautifulSoup\n",
    "from pymongo import MongoClient\n"
   ]
  },
  {
   "cell_type": "code",
   "execution_count": 26,
   "metadata": {
    "collapsed": false
   },
   "outputs": [
    {
     "ename": "TypeError",
     "evalue": "transform() takes exactly 2 arguments (3 given)",
     "output_type": "error",
     "traceback": [
      "\u001b[1;31m---------------------------------------------------------------------------\u001b[0m",
      "\u001b[1;31mTypeError\u001b[0m                                 Traceback (most recent call last)",
      "\u001b[1;32m<ipython-input-26-6154686c4e1c>\u001b[0m in \u001b[0;36m<module>\u001b[1;34m()\u001b[0m\n\u001b[0;32m     40\u001b[0m \u001b[1;33m\u001b[0m\u001b[0m\n\u001b[0;32m     41\u001b[0m     \u001b[0mnmf\u001b[0m\u001b[1;33m.\u001b[0m\u001b[0mfit\u001b[0m\u001b[1;33m(\u001b[0m\u001b[0mtraining_features\u001b[0m\u001b[1;33m,\u001b[0m\u001b[0mtraining_labels\u001b[0m\u001b[1;33m)\u001b[0m\u001b[1;33m\u001b[0m\u001b[0m\n\u001b[1;32m---> 42\u001b[1;33m     \u001b[0mX\u001b[0m\u001b[1;33m.\u001b[0m\u001b[0mappend\u001b[0m\u001b[1;33m(\u001b[0m\u001b[0mnmf\u001b[0m\u001b[1;33m.\u001b[0m\u001b[0mtransform\u001b[0m\u001b[1;33m(\u001b[0m\u001b[0mtest_features\u001b[0m\u001b[1;33m,\u001b[0m\u001b[0mtest_labels\u001b[0m\u001b[1;33m)\u001b[0m\u001b[1;33m.\u001b[0m\u001b[0mdot\u001b[0m\u001b[1;33m(\u001b[0m\u001b[0mnmf\u001b[0m\u001b[1;33m.\u001b[0m\u001b[0mcomponents_\u001b[0m\u001b[1;33m)\u001b[0m\u001b[1;33m)\u001b[0m\u001b[1;33m\u001b[0m\u001b[0m\n\u001b[0m\u001b[0;32m     43\u001b[0m \u001b[1;33m\u001b[0m\u001b[0m\n\u001b[0;32m     44\u001b[0m \u001b[1;32mprint\u001b[0m \u001b[0mlen\u001b[0m\u001b[1;33m(\u001b[0m\u001b[0mX\u001b[0m\u001b[1;33m)\u001b[0m\u001b[1;33m\u001b[0m\u001b[0m\n",
      "\u001b[1;31mTypeError\u001b[0m: transform() takes exactly 2 arguments (3 given)"
     ]
    }
   ],
   "source": [
    "#PyMongo variables\n",
    "client = MongoClient()\n",
    "db = client['reviews']\n",
    "collection = db['movies']\n",
    "reviews = collection.find()\n",
    "\n",
    "#Lists for X and y\n",
    "review_list = []\n",
    "opinion_list = []\n",
    "word_list = []\n",
    "\n",
    "n_features = 2000\n",
    "n_topics = 2\n",
    "n_top_words = 20\n",
    "pos_words = []\n",
    "neg_words = []\n",
    "\n",
    "for review in reviews:\n",
    "    opinion_list.append(review['Opinion'])\n",
    "    review_list.append(review['Review'])\n",
    "\n",
    "vectorizer = TfidfVectorizer(max_features=n_features, stop_words='english'\\\n",
    "                , ngram_range=(1,3), sublinear_tf=True, norm='l2')\n",
    "review_tfidf = vectorizer.fit_transform(review_list)\n",
    "opinion_array = np.array(opinion_list)\n",
    "feature_names = vectorizer.get_feature_names()\n",
    "\n",
    "feats_train, feats_test, opinions_train, opinions_test = train_test_split(\\\n",
    "                    review_tfidf, opinion_array, test_size=.2)\n",
    "\n",
    "nmf = NMF(n_components=n_topics,init='nndsvd')\n",
    "\n",
    "X = []\n",
    "kf = KFold(review_tfidf.shape[0], n_folds=5)\n",
    "\n",
    "for small_index, large_index in kf:\n",
    "    training_features = review_tfidf[large_index]\n",
    "    test_features = review_tfidf[small_index]\n",
    "    \n",
    "    training_labels = opinions[large_index]\n",
    "    test_labels = opinions[small_index]\n",
    "    \n",
    "    nmf.fit(training_features,training_labels)\n",
    "    X.append(nmf.transform(test_features,test_labels).dot(nmf.components_))\n",
    "\n",
    "print len(X)\n",
    "print X[0].shape\n",
    "\n",
    "# logit = LogisticRegression()\n",
    "# nb = BernoulliNB()\n",
    "\n",
    "# logit.fit(train_X,opinions_train)\n",
    "# nb.fit(train_X,opinions_train)\n",
    "\n",
    "# print logit.score(feats_test,opinions_test)\n",
    "# print nb.score(feats_test,opinions_test)"
   ]
  },
  {
   "cell_type": "code",
   "execution_count": null,
   "metadata": {
    "collapsed": true
   },
   "outputs": [],
   "source": []
  }
 ],
 "metadata": {
  "kernelspec": {
   "display_name": "Python 2",
   "language": "python",
   "name": "python2"
  },
  "language_info": {
   "codemirror_mode": {
    "name": "ipython",
    "version": 2
   },
   "file_extension": ".py",
   "mimetype": "text/x-python",
   "name": "python",
   "nbconvert_exporter": "python",
   "pygments_lexer": "ipython2",
   "version": "2.7.9"
  }
 },
 "nbformat": 4,
 "nbformat_minor": 0
}
