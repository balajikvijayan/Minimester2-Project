{
 "cells": [
  {
   "cell_type": "code",
   "execution_count": 1,
   "metadata": {
    "collapsed": true
   },
   "outputs": [],
   "source": [
    "import pandas as pd\n",
    "import numpy as np\n",
    "import os\n",
    "from sklearn.feature_extraction.text import TfidfVectorizer\n",
    "from sklearn.decomposition import NMF\n",
    "from sklearn.cross_validation import KFold, train_test_split\n",
    "from BeautifulSoup import BeautifulSoup\n",
    "from pymongo import MongoClient\n",
    "from lxml import etree"
   ]
  },
  {
   "cell_type": "code",
   "execution_count": 47,
   "metadata": {
    "collapsed": false
   },
   "outputs": [
    {
     "name": "stdout",
     "output_type": "stream",
     "text": [
      "2000\n"
     ]
    }
   ],
   "source": [
    "#Path of data files\n",
    "pospath = r'C:\\Anaconda\\Galvanize\\Minimester2-Project\\txt_sentoken\\pos'\n",
    "negpath = r'C:\\Anaconda\\Galvanize\\Minimester2-Project\\txt_sentoken\\neg'\n",
    "\n",
    "#Other initializations including MongoDB and lists of data\n",
    "client = MongoClient()\n",
    "db = client.reviews\n",
    "collection = db.movies\n",
    "review = []\n",
    "opinion = []\n",
    "\n",
    "#Drop MongoDB data so duplicates aren't loaded\n",
    "collection.drop()\n",
    "\n",
    "#loop through neg files\n",
    "for name in os.listdir(negpath):\n",
    "    #context manager so files aren't floating around\n",
    "    with open(negpath+'\\\\'+name, 'r') as fo:\n",
    "        #read in the data\n",
    "        data = fo.read()\n",
    "        #remove apostrophes so that contractions are treated as one word\n",
    "        #otherwise wouldn't, can't, won't etc will all tokenize to t\n",
    "        review.append(data.replace(\"'\",\"\"))\n",
    "        opinion.append(False)\n",
    "\n",
    "#loop through pos files\n",
    "for name in os.listdir(pospath):\n",
    "    #context manager so files aren't floating around\n",
    "    with open(pospath+'\\\\'+name, 'r') as fo:\n",
    "        #read in the data\n",
    "        data = fo.read()\n",
    "        review.append(data.replace(\"'\",\"\"))\n",
    "        opinion.append(True)\n",
    "\n",
    "df = pd.DataFrame(zip(review,opinion))\n",
    "df.columns = ['Review','Opinion']\n",
    "df.head()\n",
    "result = collection.insert(df.T.to_dict().values())\n",
    "print collection.count()\n"
   ]
  },
  {
   "cell_type": "code",
   "execution_count": 46,
   "metadata": {
    "collapsed": false
   },
   "outputs": [
    {
     "name": "stdout",
     "output_type": "stream",
     "text": [
      "(1200, 100)\n",
      "(1200, 100)\n",
      "(1200, 100)\n",
      "(1200, 100)\n",
      "(1200, 100)\n",
      "Sentiment #0\n",
      "film characters films character really just scenes scene audience best plot good time way performance actually great like make people\n",
      "\n",
      "Sentiment #1\n",
      "movie movies good plot seen did like really people funny bad just original characters know thing character little audience actually\n",
      "\n",
      "Sentiment #2\n",
      "life story love man family world new young like home does john doesn time old director year role best comedy\n",
      "\n",
      "Sentiment #3\n",
      "action like hes bad theres doesnt just dont films good guy big effects movies time plot special better make script\n",
      "\n"
     ]
    }
   ],
   "source": [
    "#Hyperparameters to tune\n",
    "#n_samples = 2000\n",
    "n_features = 100\n",
    "n_topics = 4\n",
    "n_top_words = 20\n",
    "\n",
    "moviesdf = pd.DataFrame(list(collection.find()))\n",
    "movies = moviesdf.as_matrix()\n",
    "moviestext = movies[:,1]\n",
    "     \n",
    "moviestext_train, moviestext_test = train_test_split(moviestext)\n",
    "kf = KFold(moviestext_train.shape[0], n_folds=5)\n",
    "vectorizer = TfidfVectorizer(max_features=n_features, stop_words='english')\n",
    "\n",
    "for train_index, test_index in kf:    \n",
    "    text_tfidf = vectorizer.fit_transform(list(\\\n",
    "            moviestext_train[train_index]))\n",
    "    print text_tfidf.shape\n",
    "    nmf = NMF(n_components=n_topics).fit(text_tfidf)\n",
    "#     print nmf.reconstruction_err_\n",
    "\n",
    "feature_names = vectorizer.get_feature_names()\n",
    "\n",
    "for idx, sentiment in enumerate(nmf.components_):\n",
    "    print \"Sentiment #{}\".format(idx)\n",
    "    print(\" \".join([feature_names[i]\n",
    "                    for i in sentiment.argsort()[:-n_top_words - 1:-1]]))\n",
    "    print"
   ]
  },
  {
   "cell_type": "code",
   "execution_count": 44,
   "metadata": {
    "collapsed": false
   },
   "outputs": [
    {
     "name": "stdout",
     "output_type": "stream",
     "text": [
      "\n",
      "\n",
      "---------\n",
      "sklearn decomposition\n",
      "Reconstruction error: 0.006186\n",
      "Topic 0:\n",
      "film characters character films just really scenes scene audience performance good best great plot like\n",
      "Topic 1:\n",
      "movie movies seen good just plot funny characters like people did really know think bad\n",
      "Topic 2:\n",
      "action hes theres like bad doesnt dont just big effects good special films guy time\n",
      "Topic 3:\n",
      "life love story man new family world young does time doesn like john little role\n",
      "\n",
      "\n",
      "---------\n",
      "sklearn decomposition\n",
      "Reconstruction error: 0.006247\n",
      "Topic 0:\n",
      "film characters films character scenes plot really audience just scene story like performance good seen\n",
      "Topic 1:\n",
      "movie movies funny good like just bad seen characters plot think comedy know really original\n",
      "Topic 2:\n",
      "life love man story world new family john like time young does little doesn people\n",
      "Topic 3:\n",
      "action theres doesnt hes bad big dont just effects like special guy good films better\n",
      "\n",
      "\n",
      "---------\n",
      "sklearn decomposition\n",
      "Reconstruction error: 0.006207\n",
      "Topic 0:\n",
      "movie movies good funny know just characters seen plot like did people bad really think\n",
      "Topic 1:\n",
      "film films characters character really just scenes performance plot scene great audience fact good seen\n",
      "Topic 2:\n",
      "life story love man family new world young like doesn american time little does john\n",
      "Topic 3:\n",
      "action theres hes bad doesnt like big just dont guy good effects time special plot\n",
      "\n",
      "\n",
      "---------\n",
      "sklearn decomposition\n",
      "Reconstruction error: 0.006200\n",
      "Topic 0:\n",
      "film characters character films really just plot great audience best scenes good story performance scene\n",
      "Topic 1:\n",
      "movie movies know like seen did characters funny really just plot think good people thing\n",
      "Topic 2:\n",
      "action hes bad theres big doesnt like just effects dont good special films guy plot\n",
      "Topic 3:\n",
      "life story love man family new like world time young does little doesn old john\n",
      "\n",
      "\n",
      "---------\n",
      "sklearn decomposition\n",
      "Reconstruction error: 0.006191\n",
      "Topic 0:\n",
      "film character films characters just scenes really plot audience good scene seen time great best\n",
      "Topic 1:\n",
      "movie movies plot good like characters seen did funny just really know original bad think\n",
      "Topic 2:\n",
      "action bad hes theres doesnt just like dont big good guy comedy make really know\n",
      "Topic 3:\n",
      "life story love man world family new young like time john doesn people old does\n"
     ]
    }
   ],
   "source": [
    "n_topics = 4\n",
    "\n",
    "def reconst_mse(target, left, right):\n",
    "    return (np.array(target - left.dot(right))**2).mean()\n",
    "\n",
    "def describe_nmf_results(document_term_mat, W, H, n_top_words = 15):\n",
    "    print(\"Reconstruction error: %f\") %(reconst_mse(document_term_mat, W, H))\n",
    "    for topic_num, topic in enumerate(H):\n",
    "        print(\"Topic %d:\" % topic_num)\n",
    "        print(\" \".join([feature_words[i] \\\n",
    "                for i in topic.argsort()[:-n_top_words - 1:-1]]))\n",
    "    return\n",
    "\n",
    "moviesdf = pd.DataFrame(list(collection.find()))\n",
    "movies = moviesdf.as_matrix()\n",
    "moviestext = movies[:,1]\n",
    "     \n",
    "moviestext_train, moviestext_test = train_test_split(moviestext)\n",
    "kf = KFold(moviestext_train.shape[0], n_folds=5)\n",
    "vectorizer = TfidfVectorizer(max_features=n_features, stop_words='english')\n",
    "\n",
    "for train_index, test_index in kf:    \n",
    "    nmf = NMF(n_components=n_topics).fit(text_tfidf)\n",
    "    text_tfidf = vectorizer.fit_transform(list(moviestext_train[train_index]))\n",
    "    feature_words = vectorizer.get_feature_names()\n",
    "    \n",
    "    print(\"\\n\\n---------\\nsklearn decomposition\")\n",
    "    nmf = NMF(n_components=n_topics)\n",
    "    W_sklearn = nmf.fit_transform(text_tfidf)\n",
    "    H_sklearn = nmf.components_\n",
    "    describe_nmf_results(text_tfidf, W_sklearn, H_sklearn)"
   ]
  }
 ],
 "metadata": {
  "kernelspec": {
   "display_name": "Python 2",
   "language": "python",
   "name": "python2"
  },
  "language_info": {
   "codemirror_mode": {
    "name": "ipython",
    "version": 2
   },
   "file_extension": ".py",
   "mimetype": "text/x-python",
   "name": "python",
   "nbconvert_exporter": "python",
   "pygments_lexer": "ipython2",
   "version": "2.7.9"
  }
 },
 "nbformat": 4,
 "nbformat_minor": 0
}
